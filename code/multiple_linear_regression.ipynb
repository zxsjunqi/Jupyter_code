{
 "cells": [
  {
   "cell_type": "markdown",
   "id": "d13ef2ae-d57e-400b-b847-a387d2614d6c",
   "metadata": {},
   "source": [
    "  文件名：multiple_linear_regression.ipynb\n",
    "  \n",
    "  作者：森森\n",
    "  \n",
    "  \n",
    "  描述：多元线性回归作业\n",
    "  \n",
    "  时间：2021-10-21"
   ]
  },
  {
   "cell_type": "markdown",
   "id": "d40a25af-1d70-4a06-b1e8-b1612cd830ae",
   "metadata": {},
   "source": [
    "# 导入包"
   ]
  },
  {
   "cell_type": "code",
   "execution_count": null,
   "id": "dec086f3-c372-4c1a-b156-d8a33d3027db",
   "metadata": {},
   "outputs": [],
   "source": [
    "import pandas as pd\n",
    "import numpy as np\n",
    "import seaborn as sns\n",
    "import matplotlib.pyplot as plt\n",
    "from sklearn import datasets\n",
    "from sklearn.linear_model import LinearRegression"
   ]
  },
  {
   "cell_type": "markdown",
   "id": "8ee9dc65-2074-454e-896d-f172e61dd1f4",
   "metadata": {},
   "source": [
    "# 读取数据"
   ]
  },
  {
   "cell_type": "code",
   "execution_count": 3,
   "id": "f3c2898a-7921-45d4-9c8a-6e25c5106fdc",
   "metadata": {},
   "outputs": [
    {
     "name": "stdout",
     "output_type": "stream",
     "text": [
      "<class 'pandas.core.frame.DataFrame'>\n",
      "RangeIndex: 6028 entries, 0 to 6027\n",
      "Data columns (total 7 columns):\n",
      " #   Column        Non-Null Count  Dtype \n",
      "---  ------        --------------  ----- \n",
      " 0   house_id      6028 non-null   int64 \n",
      " 1   neighborhood  6028 non-null   object\n",
      " 2   area          6028 non-null   int64 \n",
      " 3   bedrooms      6028 non-null   int64 \n",
      " 4   bathrooms     6028 non-null   int64 \n",
      " 5   style         6028 non-null   object\n",
      " 6   price         6028 non-null   int64 \n",
      "dtypes: int64(5), object(2)\n",
      "memory usage: 329.8+ KB\n"
     ]
    },
    {
     "data": {
      "text/html": [
       "<div>\n",
       "<style scoped>\n",
       "    .dataframe tbody tr th:only-of-type {\n",
       "        vertical-align: middle;\n",
       "    }\n",
       "\n",
       "    .dataframe tbody tr th {\n",
       "        vertical-align: top;\n",
       "    }\n",
       "\n",
       "    .dataframe thead th {\n",
       "        text-align: right;\n",
       "    }\n",
       "</style>\n",
       "<table border=\"1\" class=\"dataframe\">\n",
       "  <thead>\n",
       "    <tr style=\"text-align: right;\">\n",
       "      <th></th>\n",
       "      <th>house_id</th>\n",
       "      <th>neighborhood</th>\n",
       "      <th>area</th>\n",
       "      <th>bedrooms</th>\n",
       "      <th>bathrooms</th>\n",
       "      <th>style</th>\n",
       "      <th>price</th>\n",
       "    </tr>\n",
       "  </thead>\n",
       "  <tbody>\n",
       "    <tr>\n",
       "      <th>0</th>\n",
       "      <td>1112</td>\n",
       "      <td>B</td>\n",
       "      <td>1188</td>\n",
       "      <td>3</td>\n",
       "      <td>2</td>\n",
       "      <td>ranch</td>\n",
       "      <td>598291</td>\n",
       "    </tr>\n",
       "    <tr>\n",
       "      <th>1</th>\n",
       "      <td>491</td>\n",
       "      <td>B</td>\n",
       "      <td>3512</td>\n",
       "      <td>5</td>\n",
       "      <td>3</td>\n",
       "      <td>victorian</td>\n",
       "      <td>1744259</td>\n",
       "    </tr>\n",
       "    <tr>\n",
       "      <th>2</th>\n",
       "      <td>5952</td>\n",
       "      <td>B</td>\n",
       "      <td>1134</td>\n",
       "      <td>3</td>\n",
       "      <td>2</td>\n",
       "      <td>ranch</td>\n",
       "      <td>571669</td>\n",
       "    </tr>\n",
       "    <tr>\n",
       "      <th>3</th>\n",
       "      <td>3525</td>\n",
       "      <td>A</td>\n",
       "      <td>1940</td>\n",
       "      <td>4</td>\n",
       "      <td>2</td>\n",
       "      <td>ranch</td>\n",
       "      <td>493675</td>\n",
       "    </tr>\n",
       "    <tr>\n",
       "      <th>4</th>\n",
       "      <td>5108</td>\n",
       "      <td>B</td>\n",
       "      <td>2208</td>\n",
       "      <td>6</td>\n",
       "      <td>4</td>\n",
       "      <td>victorian</td>\n",
       "      <td>1101539</td>\n",
       "    </tr>\n",
       "    <tr>\n",
       "      <th>5</th>\n",
       "      <td>7507</td>\n",
       "      <td>C</td>\n",
       "      <td>1785</td>\n",
       "      <td>4</td>\n",
       "      <td>2</td>\n",
       "      <td>lodge</td>\n",
       "      <td>455235</td>\n",
       "    </tr>\n",
       "  </tbody>\n",
       "</table>\n",
       "</div>"
      ],
      "text/plain": [
       "   house_id neighborhood  area  bedrooms  bathrooms      style    price\n",
       "0      1112            B  1188         3          2      ranch   598291\n",
       "1       491            B  3512         5          3  victorian  1744259\n",
       "2      5952            B  1134         3          2      ranch   571669\n",
       "3      3525            A  1940         4          2      ranch   493675\n",
       "4      5108            B  2208         6          4  victorian  1101539\n",
       "5      7507            C  1785         4          2      lodge   455235"
      ]
     },
     "execution_count": 3,
     "metadata": {},
     "output_type": "execute_result"
    }
   ],
   "source": [
    "df = pd.read_csv('..\\\\source\\\\house_prices.csv')\n",
    "df.info()#显示列名和数据类型类型\n",
    "df.head(6)#显示前n行，n默认为5"
   ]
  },
  {
   "cell_type": "markdown",
   "id": "b60ea5f4-76b5-4fbd-9ad7-7652d861b2b1",
   "metadata": {},
   "source": [
    "# 异常值处理函数"
   ]
  },
  {
   "cell_type": "code",
   "execution_count": 4,
   "id": "dbac34a4-14dd-4376-9656-8389379d0cbe",
   "metadata": {},
   "outputs": [],
   "source": [
    "# 异常值处理\n",
    "# ================ 异常值检验函数：iqr & z分数 两种方法 =========================\n",
    "def outlier_test(data, column, method=None, z=2):\n",
    "    \"\"\" 以某列为依据，使用 上下截断点法 检测异常值(索引) \"\"\"\n",
    "    \"\"\" \n",
    "    full_data: 完整数据\n",
    "    column: full_data 中的指定行，格式 'x' 带引号\n",
    "    return 可选; outlier: 异常值数据框 \n",
    "    upper: 上截断点;  lower: 下截断点\n",
    "    method：检验异常值的方法（可选, 默认的 None 为上下截断点法），\n",
    "            选 Z 方法时，Z 默认为 2\n",
    "    \"\"\"\n",
    "    # ================== 上下截断点法检验异常值 ==============================\n",
    "    if method == None:\n",
    "        print(f'以 {column} 列为依据，使用 上下截断点法(iqr) 检测异常值...')\n",
    "        print('=' * 70)\n",
    "        # 四分位点；这里调用函数会存在异常\n",
    "        column_iqr = np.quantile(data[column], 0.75) - np.quantile(data[column], 0.25)\n",
    "        # 1，3 分位数\n",
    "        (q1, q3) = np.quantile(data[column], 0.25), np.quantile(data[column], 0.75)\n",
    "        # 计算上下截断点\n",
    "        upper, lower = (q3 + 1.5 * column_iqr), (q1 - 1.5 * column_iqr)\n",
    "        # 检测异常值\n",
    "        outlier = data[(data[column] <= lower) | (data[column] >= upper)]\n",
    "        print(f'第一分位数: {q1}, 第三分位数：{q3}, 四分位极差：{column_iqr}')\n",
    "        print(f\"上截断点：{upper}, 下截断点：{lower}\")\n",
    "        return outlier, upper, lower\n",
    "    # ===================== Z 分数检验异常值 ==========================\n",
    "    if method == 'z':\n",
    "        \"\"\" 以某列为依据，传入数据与希望分段的 z 分数点，返回异常值索引与所在数据框 \"\"\"\n",
    "        \"\"\" \n",
    "        params\n",
    "        data: 完整数据\n",
    "        column: 指定的检测列\n",
    "        z: Z分位数, 默认为2，根据 z分数-正态曲线表，可知取左右两端的 2%，\n",
    "           根据您 z 分数的正负设置。也可以任意更改，知道任意顶端百分比的数据集合\n",
    "        \"\"\"\n",
    "        print(f'以 {column} 列为依据，使用 Z 分数法，z 分位数取 {z} 来检测异常值...')\n",
    "        print('=' * 70)\n",
    "        # 计算两个 Z 分数的数值点\n",
    "        mean, std = np.mean(data[column]), np.std(data[column])\n",
    "        upper, lower = (mean + z * std), (mean - z * std)\n",
    "        print(f\"取 {z} 个 Z分数：大于 {upper} 或小于 {lower} 的即可被视为异常值。\")\n",
    "        print('=' * 70)\n",
    "        # 检测异常值\n",
    "        outlier = data[(data[column] <= lower) | (data[column] >= upper)]\n",
    "        return outlier, upper, lower"
   ]
  },
  {
   "cell_type": "markdown",
   "id": "09409e34-5234-423a-a249-1f5d9a06b8e7",
   "metadata": {},
   "source": [
    "# 获得异常数据并丢弃"
   ]
  },
  {
   "cell_type": "code",
   "execution_count": 5,
   "id": "9757154f-c896-4ff1-a4d7-47673e0120db",
   "metadata": {},
   "outputs": [
    {
     "name": "stdout",
     "output_type": "stream",
     "text": [
      "以 price 列为依据，使用 Z 分数法，z 分位数取 2 来检测异常值...\n",
      "======================================================================\n",
      "取 2 个 Z分数：大于 1801467.1287622033 或小于 -293051.3610117055 的即可被视为异常值。\n",
      "======================================================================\n",
      "<class 'pandas.core.frame.DataFrame'>\n",
      "Int64Index: 335 entries, 22 to 6018\n",
      "Data columns (total 7 columns):\n",
      " #   Column        Non-Null Count  Dtype \n",
      "---  ------        --------------  ----- \n",
      " 0   house_id      335 non-null    int64 \n",
      " 1   neighborhood  335 non-null    object\n",
      " 2   area          335 non-null    int64 \n",
      " 3   bedrooms      335 non-null    int64 \n",
      " 4   bathrooms     335 non-null    int64 \n",
      " 5   style         335 non-null    object\n",
      " 6   price         335 non-null    int64 \n",
      "dtypes: int64(5), object(2)\n",
      "memory usage: 20.9+ KB\n"
     ]
    }
   ],
   "source": [
    "outlier, upper, lower = outlier_test(data=df, column='price', method='z')#获得异常数据\n",
    "outlier.info(); outlier.sample(5)\n",
    "df.drop(index=outlier.index, inplace=True)#丢弃异常数据"
   ]
  },
  {
   "cell_type": "markdown",
   "id": "50080f29-f36e-4a10-8aba-20ebb6ad9769",
   "metadata": {},
   "source": [
    "# 获取非数值类型每种值的个数"
   ]
  },
  {
   "cell_type": "code",
   "execution_count": 6,
   "id": "471df035-1227-4812-a07c-3aa5e3f0914f",
   "metadata": {},
   "outputs": [
    {
     "name": "stdout",
     "output_type": "stream",
     "text": [
      "neighborhood :\n",
      "                 B     A     C\n",
      "value_counts  2093  1875  1725\n",
      "===================================\n",
      "style :\n",
      "              victorian  ranch  lodge\n",
      "value_counts       2674   1790   1229\n",
      "===================================\n"
     ]
    }
   ],
   "source": [
    "# 获取名义变量中各个取值的个数\n",
    "# 类别变量，又称为名义变量，nominal variables\n",
    "nominal_vars = ['neighborhood', 'style']\n",
    "\n",
    "for each in nominal_vars:\n",
    "    print(each, ':')\n",
    "    print(df[each].agg(['value_counts']).T)\n",
    "    # 直接 .value_counts().T 无法实现下面的效果\n",
    "     ## 必须得 agg，而且里面的中括号 [] 也不能少\n",
    "    print('='*35)"
   ]
  },
  {
   "cell_type": "markdown",
   "id": "6883c35e-b446-4786-89a6-fa8979cf9e56",
   "metadata": {},
   "source": [
    "# 对两列名义变量进行虚拟变量设置"
   ]
  },
  {
   "cell_type": "code",
   "execution_count": 7,
   "id": "814fa274-2fce-495b-99d4-7593a35345af",
   "metadata": {},
   "outputs": [
    {
     "data": {
      "text/html": [
       "<div>\n",
       "<style scoped>\n",
       "    .dataframe tbody tr th:only-of-type {\n",
       "        vertical-align: middle;\n",
       "    }\n",
       "\n",
       "    .dataframe tbody tr th {\n",
       "        vertical-align: top;\n",
       "    }\n",
       "\n",
       "    .dataframe thead th {\n",
       "        text-align: right;\n",
       "    }\n",
       "</style>\n",
       "<table border=\"1\" class=\"dataframe\">\n",
       "  <thead>\n",
       "    <tr style=\"text-align: right;\">\n",
       "      <th></th>\n",
       "      <th>A</th>\n",
       "      <th>B</th>\n",
       "    </tr>\n",
       "  </thead>\n",
       "  <tbody>\n",
       "    <tr>\n",
       "      <th>2474</th>\n",
       "      <td>1</td>\n",
       "      <td>0</td>\n",
       "    </tr>\n",
       "  </tbody>\n",
       "</table>\n",
       "</div>"
      ],
      "text/plain": [
       "      A  B\n",
       "2474  1  0"
      ]
     },
     "execution_count": 7,
     "metadata": {},
     "output_type": "execute_result"
    }
   ],
   "source": [
    "# 对名义变量neighborhood进行处理\n",
    "# 设置虚拟变量\n",
    "nominal_data = df['neighborhood']\n",
    "# 设置虚拟变量\n",
    "dummies = pd.get_dummies(nominal_data)\n",
    "dummies.sample() # pandas 会自动帮你命名\n",
    "# 每个名义变量生成的虚拟变量中，需要各丢弃一个，这里以丢弃C为例\n",
    "dummies.drop(columns=['C'], inplace=True)\n",
    "dummies.sample()"
   ]
  },
  {
   "cell_type": "code",
   "execution_count": 8,
   "id": "6db449ef-4eab-45fc-8e87-000eba0a21a5",
   "metadata": {},
   "outputs": [
    {
     "data": {
      "text/html": [
       "<div>\n",
       "<style scoped>\n",
       "    .dataframe tbody tr th:only-of-type {\n",
       "        vertical-align: middle;\n",
       "    }\n",
       "\n",
       "    .dataframe tbody tr th {\n",
       "        vertical-align: top;\n",
       "    }\n",
       "\n",
       "    .dataframe thead th {\n",
       "        text-align: right;\n",
       "    }\n",
       "</style>\n",
       "<table border=\"1\" class=\"dataframe\">\n",
       "  <thead>\n",
       "    <tr style=\"text-align: right;\">\n",
       "      <th></th>\n",
       "      <th>ranch</th>\n",
       "      <th>victorian</th>\n",
       "    </tr>\n",
       "  </thead>\n",
       "  <tbody>\n",
       "    <tr>\n",
       "      <th>4195</th>\n",
       "      <td>1</td>\n",
       "      <td>0</td>\n",
       "    </tr>\n",
       "  </tbody>\n",
       "</table>\n",
       "</div>"
      ],
      "text/plain": [
       "      ranch  victorian\n",
       "4195      1          0"
      ]
     },
     "execution_count": 8,
     "metadata": {},
     "output_type": "execute_result"
    }
   ],
   "source": [
    "# 对名义变量style进行处理\n",
    "# 设置虚拟变量\n",
    "nominal_style_data = df['style']\n",
    "# 设置虚拟变量\n",
    "style_dummies = pd.get_dummies(nominal_style_data)\n",
    "style_dummies.sample() # pandas 会自动帮你命名\n",
    "# 每个名义变量生成的虚拟变量中，需要各丢弃一个，这里以丢弃lodge\n",
    "#原因：转化后的虚拟变量需要舍弃一个，才能得到满秩矩阵，可理解为当变量名可划分为n类时，只需要n-1个虚拟变量就能获取所有信息了\n",
    "style_dummies.drop(columns=['lodge'], inplace=True)\n",
    "style_dummies.sample()\n"
   ]
  },
  {
   "cell_type": "markdown",
   "id": "1b03578d-e9a0-45b8-a625-7540b8806725",
   "metadata": {},
   "source": [
    "# 数据拼接"
   ]
  },
  {
   "cell_type": "code",
   "execution_count": 9,
   "id": "9e4aeb66-8d19-4ef0-a400-2e711ce6b5cb",
   "metadata": {},
   "outputs": [
    {
     "data": {
      "text/html": [
       "<div>\n",
       "<style scoped>\n",
       "    .dataframe tbody tr th:only-of-type {\n",
       "        vertical-align: middle;\n",
       "    }\n",
       "\n",
       "    .dataframe tbody tr th {\n",
       "        vertical-align: top;\n",
       "    }\n",
       "\n",
       "    .dataframe thead th {\n",
       "        text-align: right;\n",
       "    }\n",
       "</style>\n",
       "<table border=\"1\" class=\"dataframe\">\n",
       "  <thead>\n",
       "    <tr style=\"text-align: right;\">\n",
       "      <th></th>\n",
       "      <th>house_id</th>\n",
       "      <th>neighborhood</th>\n",
       "      <th>area</th>\n",
       "      <th>bedrooms</th>\n",
       "      <th>bathrooms</th>\n",
       "      <th>style</th>\n",
       "      <th>price</th>\n",
       "      <th>A</th>\n",
       "      <th>B</th>\n",
       "      <th>ranch</th>\n",
       "      <th>victorian</th>\n",
       "    </tr>\n",
       "  </thead>\n",
       "  <tbody>\n",
       "    <tr>\n",
       "      <th>4453</th>\n",
       "      <td>880</td>\n",
       "      <td>B</td>\n",
       "      <td>1323</td>\n",
       "      <td>3</td>\n",
       "      <td>2</td>\n",
       "      <td>victorian</td>\n",
       "      <td>664846</td>\n",
       "      <td>0</td>\n",
       "      <td>1</td>\n",
       "      <td>0</td>\n",
       "      <td>1</td>\n",
       "    </tr>\n",
       "    <tr>\n",
       "      <th>5040</th>\n",
       "      <td>211</td>\n",
       "      <td>C</td>\n",
       "      <td>3893</td>\n",
       "      <td>5</td>\n",
       "      <td>3</td>\n",
       "      <td>victorian</td>\n",
       "      <td>978171</td>\n",
       "      <td>0</td>\n",
       "      <td>0</td>\n",
       "      <td>0</td>\n",
       "      <td>1</td>\n",
       "    </tr>\n",
       "    <tr>\n",
       "      <th>4374</th>\n",
       "      <td>7127</td>\n",
       "      <td>B</td>\n",
       "      <td>2355</td>\n",
       "      <td>4</td>\n",
       "      <td>2</td>\n",
       "      <td>victorian</td>\n",
       "      <td>1173706</td>\n",
       "      <td>0</td>\n",
       "      <td>1</td>\n",
       "      <td>0</td>\n",
       "      <td>1</td>\n",
       "    </tr>\n",
       "  </tbody>\n",
       "</table>\n",
       "</div>"
      ],
      "text/plain": [
       "      house_id neighborhood  area  bedrooms  bathrooms      style    price  A  \\\n",
       "4453       880            B  1323         3          2  victorian   664846  0   \n",
       "5040       211            C  3893         5          3  victorian   978171  0   \n",
       "4374      7127            B  2355         4          2  victorian  1173706  0   \n",
       "\n",
       "      B  ranch  victorian  \n",
       "4453  1      0          1  \n",
       "5040  0      0          1  \n",
       "4374  1      0          1  "
      ]
     },
     "execution_count": 9,
     "metadata": {},
     "output_type": "execute_result"
    }
   ],
   "source": [
    "#数据拼接\n",
    "results = pd.concat(objs=[df, dummies], axis='columns') # 按照列来合并\n",
    "results = pd.concat(objs=[results, style_dummies], axis='columns') # 按照列来合并\n",
    "results.sample(3)"
   ]
  },
  {
   "cell_type": "markdown",
   "id": "4dce1e84-21c4-4334-83e6-d723c1a10375",
   "metadata": {},
   "source": [
    "# 不加入非数值变量"
   ]
  },
  {
   "cell_type": "code",
   "execution_count": 10,
   "id": "28beca4f-1e5a-4244-a256-39c4970300db",
   "metadata": {},
   "outputs": [],
   "source": [
    "#取出自变量和因变量\n",
    "data_x=df[['area','bedrooms','bathrooms']]\n",
    "data_y=df['price']"
   ]
  },
  {
   "cell_type": "markdown",
   "id": "aab1c0b5-1e70-43d5-979c-6b4e734c812b",
   "metadata": {},
   "source": [
    "# 加入虚拟变量"
   ]
  },
  {
   "cell_type": "code",
   "execution_count": 11,
   "id": "7a9185a9-40ba-4a0c-b88f-b7f9e305a6ef",
   "metadata": {},
   "outputs": [],
   "source": [
    "#取出自变量和因变量\n",
    "data_x=results[['area','bedrooms','bathrooms','A','B','ranch','victorian']]\n",
    "data_y=results['price']"
   ]
  },
  {
   "cell_type": "markdown",
   "id": "49866f1d-0752-45f5-b252-28d414cd8c1f",
   "metadata": {},
   "source": [
    "# 进行多元线性回归"
   ]
  },
  {
   "cell_type": "markdown",
   "id": "b81e6bd8-5aae-4e8f-b0f5-ea85b1bd8c32",
   "metadata": {},
   "source": [
    "## 用sklearn包进行多元线性回归"
   ]
  },
  {
   "cell_type": "code",
   "execution_count": 12,
   "id": "780a6223-fee7-41df-bfb0-c800397f4d28",
   "metadata": {},
   "outputs": [
    {
     "name": "stdout",
     "output_type": "stream",
     "text": [
      "参数权重\n",
      "[ 2.74433353e+02  2.94082369e+04 -1.45068464e+04  9.70587414e+02\n",
      "  4.58549361e+05  1.76678529e+04  3.21298434e+04]\n",
      "模型截距\n",
      "-143381.30896764516\n"
     ]
    }
   ],
   "source": [
    "# 进行多元线性回归\n",
    "model=LinearRegression()\n",
    "l_model=model.fit(data_x,data_y)\n",
    "print('参数权重')\n",
    "print(model.coef_)\n",
    "print('模型截距')\n",
    "print(model.intercept_)\n"
   ]
  },
  {
   "cell_type": "markdown",
   "id": "4be240d7-dc7b-4969-9dfa-3d381de0c001",
   "metadata": {},
   "source": [
    "## 不用sklearn包进行多元线性回归"
   ]
  },
  {
   "cell_type": "code",
   "execution_count": 20,
   "id": "8338c92d-df41-44f7-8d93-c01b884cfd02",
   "metadata": {},
   "outputs": [
    {
     "data": {
      "text/html": [
       "<table class=\"simpletable\">\n",
       "<caption>OLS Regression Results</caption>\n",
       "<tr>\n",
       "  <th>Dep. Variable:</th>          <td>price</td>      <th>  R-squared:         </th> <td>   0.917</td> \n",
       "</tr>\n",
       "<tr>\n",
       "  <th>Model:</th>                   <td>OLS</td>       <th>  Adj. R-squared:    </th> <td>   0.917</td> \n",
       "</tr>\n",
       "<tr>\n",
       "  <th>Method:</th>             <td>Least Squares</td>  <th>  F-statistic:       </th> <td>1.258e+04</td>\n",
       "</tr>\n",
       "<tr>\n",
       "  <th>Date:</th>             <td>Sun, 24 Oct 2021</td> <th>  Prob (F-statistic):</th>  <td>  0.00</td>  \n",
       "</tr>\n",
       "<tr>\n",
       "  <th>Time:</th>                 <td>09:46:51</td>     <th>  Log-Likelihood:    </th> <td> -74498.</td> \n",
       "</tr>\n",
       "<tr>\n",
       "  <th>No. Observations:</th>      <td>  5693</td>      <th>  AIC:               </th> <td>1.490e+05</td>\n",
       "</tr>\n",
       "<tr>\n",
       "  <th>Df Residuals:</th>          <td>  5687</td>      <th>  BIC:               </th> <td>1.490e+05</td>\n",
       "</tr>\n",
       "<tr>\n",
       "  <th>Df Model:</th>              <td>     5</td>      <th>                     </th>     <td> </td>    \n",
       "</tr>\n",
       "<tr>\n",
       "  <th>Covariance Type:</th>      <td>nonrobust</td>    <th>                     </th>     <td> </td>    \n",
       "</tr>\n",
       "</table>\n",
       "<table class=\"simpletable\">\n",
       "<tr>\n",
       "      <td></td>         <th>coef</th>     <th>std err</th>      <th>t</th>      <th>P>|t|</th>  <th>[0.025</th>    <th>0.975]</th>  \n",
       "</tr>\n",
       "<tr>\n",
       "  <th>Intercept</th> <td> -1.44e+05</td> <td> 4850.919</td> <td>  -29.695</td> <td> 0.000</td> <td>-1.54e+05</td> <td>-1.35e+05</td>\n",
       "</tr>\n",
       "<tr>\n",
       "  <th>area</th>      <td>  273.5877</td> <td>    3.100</td> <td>   88.262</td> <td> 0.000</td> <td>  267.511</td> <td>  279.664</td>\n",
       "</tr>\n",
       "<tr>\n",
       "  <th>bedrooms</th>  <td> 3.454e+04</td> <td> 4145.962</td> <td>    8.332</td> <td> 0.000</td> <td> 2.64e+04</td> <td> 4.27e+04</td>\n",
       "</tr>\n",
       "<tr>\n",
       "  <th>bathrooms</th> <td>-1.234e+04</td> <td> 5745.193</td> <td>   -2.148</td> <td> 0.032</td> <td>-2.36e+04</td> <td>-1077.999</td>\n",
       "</tr>\n",
       "<tr>\n",
       "  <th>A</th>         <td>  900.7529</td> <td> 3894.685</td> <td>    0.231</td> <td> 0.817</td> <td>-6734.314</td> <td> 8535.820</td>\n",
       "</tr>\n",
       "<tr>\n",
       "  <th>B</th>         <td>  4.59e+05</td> <td> 3824.828</td> <td>  120.010</td> <td> 0.000</td> <td> 4.52e+05</td> <td> 4.67e+05</td>\n",
       "</tr>\n",
       "</table>\n",
       "<table class=\"simpletable\">\n",
       "<tr>\n",
       "  <th>Omnibus:</th>       <td>261.668</td> <th>  Durbin-Watson:     </th> <td>   1.974</td>\n",
       "</tr>\n",
       "<tr>\n",
       "  <th>Prob(Omnibus):</th> <td> 0.000</td>  <th>  Jarque-Bera (JB):  </th> <td> 417.215</td>\n",
       "</tr>\n",
       "<tr>\n",
       "  <th>Skew:</th>          <td> 0.399</td>  <th>  Prob(JB):          </th> <td>2.53e-91</td>\n",
       "</tr>\n",
       "<tr>\n",
       "  <th>Kurtosis:</th>      <td> 4.059</td>  <th>  Cond. No.          </th> <td>1.10e+04</td>\n",
       "</tr>\n",
       "</table><br/><br/>Notes:<br/>[1] Standard Errors assume that the covariance matrix of the errors is correctly specified.<br/>[2] The condition number is large, 1.1e+04. This might indicate that there are<br/>strong multicollinearity or other numerical problems."
      ],
      "text/plain": [
       "<class 'statsmodels.iolib.summary.Summary'>\n",
       "\"\"\"\n",
       "                            OLS Regression Results                            \n",
       "==============================================================================\n",
       "Dep. Variable:                  price   R-squared:                       0.917\n",
       "Model:                            OLS   Adj. R-squared:                  0.917\n",
       "Method:                 Least Squares   F-statistic:                 1.258e+04\n",
       "Date:                Sun, 24 Oct 2021   Prob (F-statistic):               0.00\n",
       "Time:                        09:46:51   Log-Likelihood:                -74498.\n",
       "No. Observations:                5693   AIC:                         1.490e+05\n",
       "Df Residuals:                    5687   BIC:                         1.490e+05\n",
       "Df Model:                           5                                         \n",
       "Covariance Type:            nonrobust                                         \n",
       "==============================================================================\n",
       "                 coef    std err          t      P>|t|      [0.025      0.975]\n",
       "------------------------------------------------------------------------------\n",
       "Intercept   -1.44e+05   4850.919    -29.695      0.000   -1.54e+05   -1.35e+05\n",
       "area         273.5877      3.100     88.262      0.000     267.511     279.664\n",
       "bedrooms    3.454e+04   4145.962      8.332      0.000    2.64e+04    4.27e+04\n",
       "bathrooms  -1.234e+04   5745.193     -2.148      0.032   -2.36e+04   -1077.999\n",
       "A            900.7529   3894.685      0.231      0.817   -6734.314    8535.820\n",
       "B            4.59e+05   3824.828    120.010      0.000    4.52e+05    4.67e+05\n",
       "==============================================================================\n",
       "Omnibus:                      261.668   Durbin-Watson:                   1.974\n",
       "Prob(Omnibus):                  0.000   Jarque-Bera (JB):              417.215\n",
       "Skew:                           0.399   Prob(JB):                     2.53e-91\n",
       "Kurtosis:                       4.059   Cond. No.                     1.10e+04\n",
       "==============================================================================\n",
       "\n",
       "Notes:\n",
       "[1] Standard Errors assume that the covariance matrix of the errors is correctly specified.\n",
       "[2] The condition number is large, 1.1e+04. This might indicate that there are\n",
       "strong multicollinearity or other numerical problems.\n",
       "\"\"\""
      ]
     },
     "execution_count": 20,
     "metadata": {},
     "output_type": "execute_result"
    }
   ],
   "source": [
    "from statsmodels.formula.api import ols\n",
    "#使用虚拟变量\n",
    "lm = ols('price ~ area + bedrooms + bathrooms + A + B', data=results).fit()\n",
    "lm.summary()"
   ]
  },
  {
   "cell_type": "code",
   "execution_count": 14,
   "id": "8662f0c0-830e-4342-89f5-2b32b208effc",
   "metadata": {},
   "outputs": [
    {
     "data": {
      "text/html": [
       "<table class=\"simpletable\">\n",
       "<caption>OLS Regression Results</caption>\n",
       "<tr>\n",
       "  <th>Dep. Variable:</th>          <td>price</td>      <th>  R-squared:         </th> <td>   0.917</td> \n",
       "</tr>\n",
       "<tr>\n",
       "  <th>Model:</th>                   <td>OLS</td>       <th>  Adj. R-squared:    </th> <td>   0.917</td> \n",
       "</tr>\n",
       "<tr>\n",
       "  <th>Method:</th>             <td>Least Squares</td>  <th>  F-statistic:       </th> <td>1.258e+04</td>\n",
       "</tr>\n",
       "<tr>\n",
       "  <th>Date:</th>             <td>Sun, 24 Oct 2021</td> <th>  Prob (F-statistic):</th>  <td>  0.00</td>  \n",
       "</tr>\n",
       "<tr>\n",
       "  <th>Time:</th>                 <td>09:19:38</td>     <th>  Log-Likelihood:    </th> <td> -74498.</td> \n",
       "</tr>\n",
       "<tr>\n",
       "  <th>No. Observations:</th>      <td>  5693</td>      <th>  AIC:               </th> <td>1.490e+05</td>\n",
       "</tr>\n",
       "<tr>\n",
       "  <th>Df Residuals:</th>          <td>  5687</td>      <th>  BIC:               </th> <td>1.490e+05</td>\n",
       "</tr>\n",
       "<tr>\n",
       "  <th>Df Model:</th>              <td>     5</td>      <th>                     </th>     <td> </td>    \n",
       "</tr>\n",
       "<tr>\n",
       "  <th>Covariance Type:</th>      <td>nonrobust</td>    <th>                     </th>     <td> </td>    \n",
       "</tr>\n",
       "</table>\n",
       "<table class=\"simpletable\">\n",
       "<tr>\n",
       "      <td></td>         <th>coef</th>     <th>std err</th>      <th>t</th>      <th>P>|t|</th>  <th>[0.025</th>    <th>0.975]</th>  \n",
       "</tr>\n",
       "<tr>\n",
       "  <th>Intercept</th> <td> -1.44e+05</td> <td> 4850.919</td> <td>  -29.695</td> <td> 0.000</td> <td>-1.54e+05</td> <td>-1.35e+05</td>\n",
       "</tr>\n",
       "<tr>\n",
       "  <th>area</th>      <td>  273.5877</td> <td>    3.100</td> <td>   88.262</td> <td> 0.000</td> <td>  267.511</td> <td>  279.664</td>\n",
       "</tr>\n",
       "<tr>\n",
       "  <th>bedrooms</th>  <td> 3.454e+04</td> <td> 4145.962</td> <td>    8.332</td> <td> 0.000</td> <td> 2.64e+04</td> <td> 4.27e+04</td>\n",
       "</tr>\n",
       "<tr>\n",
       "  <th>bathrooms</th> <td>-1.234e+04</td> <td> 5745.193</td> <td>   -2.148</td> <td> 0.032</td> <td>-2.36e+04</td> <td>-1077.999</td>\n",
       "</tr>\n",
       "<tr>\n",
       "  <th>A</th>         <td>  900.7529</td> <td> 3894.685</td> <td>    0.231</td> <td> 0.817</td> <td>-6734.314</td> <td> 8535.820</td>\n",
       "</tr>\n",
       "<tr>\n",
       "  <th>B</th>         <td>  4.59e+05</td> <td> 3824.828</td> <td>  120.010</td> <td> 0.000</td> <td> 4.52e+05</td> <td> 4.67e+05</td>\n",
       "</tr>\n",
       "</table>\n",
       "<table class=\"simpletable\">\n",
       "<tr>\n",
       "  <th>Omnibus:</th>       <td>261.668</td> <th>  Durbin-Watson:     </th> <td>   1.974</td>\n",
       "</tr>\n",
       "<tr>\n",
       "  <th>Prob(Omnibus):</th> <td> 0.000</td>  <th>  Jarque-Bera (JB):  </th> <td> 417.215</td>\n",
       "</tr>\n",
       "<tr>\n",
       "  <th>Skew:</th>          <td> 0.399</td>  <th>  Prob(JB):          </th> <td>2.53e-91</td>\n",
       "</tr>\n",
       "<tr>\n",
       "  <th>Kurtosis:</th>      <td> 4.059</td>  <th>  Cond. No.          </th> <td>1.10e+04</td>\n",
       "</tr>\n",
       "</table><br/><br/>Notes:<br/>[1] Standard Errors assume that the covariance matrix of the errors is correctly specified.<br/>[2] The condition number is large, 1.1e+04. This might indicate that there are<br/>strong multicollinearity or other numerical problems."
      ],
      "text/plain": [
       "<class 'statsmodels.iolib.summary.Summary'>\n",
       "\"\"\"\n",
       "                            OLS Regression Results                            \n",
       "==============================================================================\n",
       "Dep. Variable:                  price   R-squared:                       0.917\n",
       "Model:                            OLS   Adj. R-squared:                  0.917\n",
       "Method:                 Least Squares   F-statistic:                 1.258e+04\n",
       "Date:                Sun, 24 Oct 2021   Prob (F-statistic):               0.00\n",
       "Time:                        09:19:38   Log-Likelihood:                -74498.\n",
       "No. Observations:                5693   AIC:                         1.490e+05\n",
       "Df Residuals:                    5687   BIC:                         1.490e+05\n",
       "Df Model:                           5                                         \n",
       "Covariance Type:            nonrobust                                         \n",
       "==============================================================================\n",
       "                 coef    std err          t      P>|t|      [0.025      0.975]\n",
       "------------------------------------------------------------------------------\n",
       "Intercept   -1.44e+05   4850.919    -29.695      0.000   -1.54e+05   -1.35e+05\n",
       "area         273.5877      3.100     88.262      0.000     267.511     279.664\n",
       "bedrooms    3.454e+04   4145.962      8.332      0.000    2.64e+04    4.27e+04\n",
       "bathrooms  -1.234e+04   5745.193     -2.148      0.032   -2.36e+04   -1077.999\n",
       "A            900.7529   3894.685      0.231      0.817   -6734.314    8535.820\n",
       "B            4.59e+05   3824.828    120.010      0.000    4.52e+05    4.67e+05\n",
       "==============================================================================\n",
       "Omnibus:                      261.668   Durbin-Watson:                   1.974\n",
       "Prob(Omnibus):                  0.000   Jarque-Bera (JB):              417.215\n",
       "Skew:                           0.399   Prob(JB):                     2.53e-91\n",
       "Kurtosis:                       4.059   Cond. No.                     1.10e+04\n",
       "==============================================================================\n",
       "\n",
       "Notes:\n",
       "[1] Standard Errors assume that the covariance matrix of the errors is correctly specified.\n",
       "[2] The condition number is large, 1.1e+04. This might indicate that there are\n",
       "strong multicollinearity or other numerical problems.\n",
       "\"\"\""
      ]
     },
     "execution_count": 14,
     "metadata": {},
     "output_type": "execute_result"
    }
   ],
   "source": [
    "# 使用虚拟变量再次建模\n",
    "lm = ols('price ~ area + bedrooms + bathrooms + A + B', data=results).fit()\n",
    "lm.summary()"
   ]
  },
  {
   "cell_type": "markdown",
   "id": "9b450691-700e-43c0-a0e1-d75ce924ae11",
   "metadata": {},
   "source": [
    "### 提示可能存在多元共线性，检验一下，再次建模"
   ]
  },
  {
   "cell_type": "code",
   "execution_count": 16,
   "id": "c709a72d-614b-43f1-b396-4dc02be20e12",
   "metadata": {},
   "outputs": [],
   "source": [
    "def vif(df, col_i):\n",
    "    \"\"\"\n",
    "    df: 整份数据\n",
    "    col_i：被检测的列名\n",
    "    \"\"\"\n",
    "    cols = list(df.columns)\n",
    "    cols.remove(col_i)\n",
    "    cols_noti = cols\n",
    "    formula = col_i + '~' + '+'.join(cols_noti)\n",
    "    r2 = ols(formula, df).fit().rsquared\n",
    "    return 1. / (1. - r2)"
   ]
  },
  {
   "cell_type": "code",
   "execution_count": 17,
   "id": "cf9c16f6-954b-4de0-a404-79bd6bb60ff3",
   "metadata": {},
   "outputs": [
    {
     "name": "stdout",
     "output_type": "stream",
     "text": [
      "area \t 5.1967268029731155\n",
      "bedrooms \t 19.414681722097903\n",
      "bathrooms \t 17.444567956435066\n",
      "A \t 1.4001509740786553\n",
      "B \t 1.421309371140367\n"
     ]
    }
   ],
   "source": [
    "test_data = results[['area', 'bedrooms', 'bathrooms', 'A', 'B']]\n",
    "for i in test_data.columns:\n",
    "    print(i, '\\t', vif(df=test_data, col_i=i))"
   ]
  },
  {
   "cell_type": "code",
   "execution_count": 18,
   "id": "16a49d26-a9c3-4b5b-a905-dc0ec9a3cc05",
   "metadata": {},
   "outputs": [
    {
     "data": {
      "text/html": [
       "<table class=\"simpletable\">\n",
       "<caption>OLS Regression Results</caption>\n",
       "<tr>\n",
       "  <th>Dep. Variable:</th>          <td>price</td>      <th>  R-squared:         </th> <td>   0.916</td> \n",
       "</tr>\n",
       "<tr>\n",
       "  <th>Model:</th>                   <td>OLS</td>       <th>  Adj. R-squared:    </th> <td>   0.916</td> \n",
       "</tr>\n",
       "<tr>\n",
       "  <th>Method:</th>             <td>Least Squares</td>  <th>  F-statistic:       </th> <td>1.552e+04</td>\n",
       "</tr>\n",
       "<tr>\n",
       "  <th>Date:</th>             <td>Sun, 24 Oct 2021</td> <th>  Prob (F-statistic):</th>  <td>  0.00</td>  \n",
       "</tr>\n",
       "<tr>\n",
       "  <th>Time:</th>                 <td>09:25:35</td>     <th>  Log-Likelihood:    </th> <td> -74533.</td> \n",
       "</tr>\n",
       "<tr>\n",
       "  <th>No. Observations:</th>      <td>  5693</td>      <th>  AIC:               </th> <td>1.491e+05</td>\n",
       "</tr>\n",
       "<tr>\n",
       "  <th>Df Residuals:</th>          <td>  5688</td>      <th>  BIC:               </th> <td>1.491e+05</td>\n",
       "</tr>\n",
       "<tr>\n",
       "  <th>Df Model:</th>              <td>     4</td>      <th>                     </th>     <td> </td>    \n",
       "</tr>\n",
       "<tr>\n",
       "  <th>Covariance Type:</th>      <td>nonrobust</td>    <th>                     </th>     <td> </td>    \n",
       "</tr>\n",
       "</table>\n",
       "<table class=\"simpletable\">\n",
       "<tr>\n",
       "      <td></td>         <th>coef</th>     <th>std err</th>      <th>t</th>      <th>P>|t|</th>  <th>[0.025</th>    <th>0.975]</th>  \n",
       "</tr>\n",
       "<tr>\n",
       "  <th>Intercept</th> <td>-1.231e+05</td> <td> 4175.035</td> <td>  -29.490</td> <td> 0.000</td> <td>-1.31e+05</td> <td>-1.15e+05</td>\n",
       "</tr>\n",
       "<tr>\n",
       "  <th>area</th>      <td>  282.4086</td> <td>    2.931</td> <td>   96.360</td> <td> 0.000</td> <td>  276.663</td> <td>  288.154</td>\n",
       "</tr>\n",
       "<tr>\n",
       "  <th>bathrooms</th> <td> 2.881e+04</td> <td> 2951.487</td> <td>    9.763</td> <td> 0.000</td> <td>  2.3e+04</td> <td> 3.46e+04</td>\n",
       "</tr>\n",
       "<tr>\n",
       "  <th>A</th>         <td>  822.8361</td> <td> 3918.027</td> <td>    0.210</td> <td> 0.834</td> <td>-6857.990</td> <td> 8503.662</td>\n",
       "</tr>\n",
       "<tr>\n",
       "  <th>B</th>         <td> 4.597e+05</td> <td> 3846.914</td> <td>  119.495</td> <td> 0.000</td> <td> 4.52e+05</td> <td> 4.67e+05</td>\n",
       "</tr>\n",
       "</table>\n",
       "<table class=\"simpletable\">\n",
       "<tr>\n",
       "  <th>Omnibus:</th>       <td>192.403</td> <th>  Durbin-Watson:     </th> <td>   1.972</td>\n",
       "</tr>\n",
       "<tr>\n",
       "  <th>Prob(Omnibus):</th> <td> 0.000</td>  <th>  Jarque-Bera (JB):  </th> <td> 269.520</td>\n",
       "</tr>\n",
       "<tr>\n",
       "  <th>Skew:</th>          <td> 0.352</td>  <th>  Prob(JB):          </th> <td>2.98e-59</td>\n",
       "</tr>\n",
       "<tr>\n",
       "  <th>Kurtosis:</th>      <td> 3.801</td>  <th>  Cond. No.          </th> <td>8.51e+03</td>\n",
       "</tr>\n",
       "</table><br/><br/>Notes:<br/>[1] Standard Errors assume that the covariance matrix of the errors is correctly specified.<br/>[2] The condition number is large, 8.51e+03. This might indicate that there are<br/>strong multicollinearity or other numerical problems."
      ],
      "text/plain": [
       "<class 'statsmodels.iolib.summary.Summary'>\n",
       "\"\"\"\n",
       "                            OLS Regression Results                            \n",
       "==============================================================================\n",
       "Dep. Variable:                  price   R-squared:                       0.916\n",
       "Model:                            OLS   Adj. R-squared:                  0.916\n",
       "Method:                 Least Squares   F-statistic:                 1.552e+04\n",
       "Date:                Sun, 24 Oct 2021   Prob (F-statistic):               0.00\n",
       "Time:                        09:25:35   Log-Likelihood:                -74533.\n",
       "No. Observations:                5693   AIC:                         1.491e+05\n",
       "Df Residuals:                    5688   BIC:                         1.491e+05\n",
       "Df Model:                           4                                         \n",
       "Covariance Type:            nonrobust                                         \n",
       "==============================================================================\n",
       "                 coef    std err          t      P>|t|      [0.025      0.975]\n",
       "------------------------------------------------------------------------------\n",
       "Intercept  -1.231e+05   4175.035    -29.490      0.000   -1.31e+05   -1.15e+05\n",
       "area         282.4086      2.931     96.360      0.000     276.663     288.154\n",
       "bathrooms   2.881e+04   2951.487      9.763      0.000     2.3e+04    3.46e+04\n",
       "A            822.8361   3918.027      0.210      0.834   -6857.990    8503.662\n",
       "B           4.597e+05   3846.914    119.495      0.000    4.52e+05    4.67e+05\n",
       "==============================================================================\n",
       "Omnibus:                      192.403   Durbin-Watson:                   1.972\n",
       "Prob(Omnibus):                  0.000   Jarque-Bera (JB):              269.520\n",
       "Skew:                           0.352   Prob(JB):                     2.98e-59\n",
       "Kurtosis:                       3.801   Cond. No.                     8.51e+03\n",
       "==============================================================================\n",
       "\n",
       "Notes:\n",
       "[1] Standard Errors assume that the covariance matrix of the errors is correctly specified.\n",
       "[2] The condition number is large, 8.51e+03. This might indicate that there are\n",
       "strong multicollinearity or other numerical problems.\n",
       "\"\"\""
      ]
     },
     "execution_count": 18,
     "metadata": {},
     "output_type": "execute_result"
    }
   ],
   "source": [
    "# 去掉bedroom再次建模\n",
    "lm = ols(formula='price ~ area + bathrooms + A + B', data=results).fit()\n",
    "lm.summary()"
   ]
  }
 ],
 "metadata": {
  "interpreter": {
   "hash": "6450870aa7ecb640f170372b61164a4502658f6707549905b344de4363c7d675"
  },
  "kernelspec": {
   "display_name": "Python 3",
   "language": "python",
   "name": "python3"
  },
  "language_info": {
   "codemirror_mode": {
    "name": "ipython",
    "version": 3
   },
   "file_extension": ".py",
   "mimetype": "text/x-python",
   "name": "python",
   "nbconvert_exporter": "python",
   "pygments_lexer": "ipython3",
   "version": "3.8.8"
  }
 },
 "nbformat": 4,
 "nbformat_minor": 5
}
