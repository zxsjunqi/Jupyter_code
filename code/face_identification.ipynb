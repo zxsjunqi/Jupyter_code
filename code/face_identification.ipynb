{
 "cells": [
  {
   "cell_type": "markdown",
   "id": "bb4e8848-2faa-4334-b85b-3704ed34a1d9",
   "metadata": {},
   "source": [
    "# -*- coding: utf-8 -*-\n",
    "\"\"\"\n",
    "Created on sat Oct 30 03:15:10 2021\n",
    "\n",
    "@author: 森森\n",
    "\"\"\""
   ]
  },
  {
   "cell_type": "code",
   "execution_count": 1,
   "id": "c5b344f6-d37d-495c-a159-d5b114b2bedd",
   "metadata": {},
   "outputs": [],
   "source": [
    "# 导入包\n",
    "import numpy as np\n",
    "import cv2\n",
    "import dlib\n",
    "import os\n",
    "import sys\n",
    "import random"
   ]
  },
  {
   "cell_type": "code",
   "execution_count": 2,
   "id": "b50c6372-127c-46e6-92d4-dcd42f4e51f8",
   "metadata": {
    "tags": []
   },
   "outputs": [],
   "source": [
    "#存储位置\n",
    "output_dir = '..\\\\source\\\\faces'\n",
    "size = 64\n",
    "#判断文件夹是否存在，不存在就创建\n",
    "if not os.path.exists(output_dir):\n",
    "    os.makedirs(output_dir)"
   ]
  },
  {
   "cell_type": "code",
   "execution_count": 3,
   "id": "ef86208c-7106-455c-80ce-6f6aab61491d",
   "metadata": {},
   "outputs": [],
   "source": [
    "# 改变图片的亮度与对比度\n",
    "def relight(img, light=1, bias=0):\n",
    "    w = img.shape[1]\n",
    "    h = img.shape[0]\n",
    "    #image = []\n",
    "    for i in range(0,w):\n",
    "        for j in range(0,h):\n",
    "            for c in range(3):\n",
    "                tmp = int(img[j,i,c]*light + bias)\n",
    "                if tmp > 255:\n",
    "                    tmp = 255\n",
    "                elif tmp < 0:\n",
    "                    tmp = 0\n",
    "                img[j,i,c] = tmp\n",
    "    return img"
   ]
  },
  {
   "cell_type": "code",
   "execution_count": 4,
   "id": "62aeb9bc-e2b6-461c-96b7-62c364be31a8",
   "metadata": {},
   "outputs": [],
   "source": [
    "#获得默认的人脸检测器和训练好的人脸68特征点检测器\n",
    "def get_detector_and_predicyor():\n",
    "    #使用dlib自带的frontal_face_detector作为我们的特征提取器\n",
    "    detector = dlib.get_frontal_face_detector()\n",
    "    \"\"\"\n",
    "    功能：人脸检测画框\n",
    "    参数：PythonFunction和in Classes\n",
    "    in classes表示采样次数，次数越多获取的人脸的次数越多，但更容易框错\n",
    "    返回值是矩形的坐标，每个矩形为一个人脸（默认的人脸检测器）\n",
    "    \"\"\"\n",
    "    # 读取摄像头中的图像，ok为是否读取成功的判断参数\n",
    "    predictor = dlib.shape_predictor('..\\\\source\\\\shape_predictor_68_face_landmarks.dat')\n",
    "    return detector,predictor"
   ]
  },
  {
   "cell_type": "code",
   "execution_count": 5,
   "id": "52db9c7d-dc9f-4cf4-ba3a-1860ceb5477a",
   "metadata": {},
   "outputs": [],
   "source": [
    "detector,predictor=get_detector_and_predicyor()"
   ]
  },
  {
   "cell_type": "code",
   "execution_count": 6,
   "id": "0763e972-8de5-4caa-b96c-92f4effb2737",
   "metadata": {},
   "outputs": [],
   "source": [
    "def display_feature_point(img,detector,predictor):   \n",
    "    #给68个特征点画圈\n",
    "    rects = detector(img_gray, 0)  \n",
    "    for i in range(len(rects)):\n",
    "        landmarks = np.matrix([[p.x, p.y] for p in predictor(img,rects[i]).parts()])\n",
    "        for idx, point in enumerate(landmarks):\n",
    "            # 68点的坐标\n",
    "            pos = (point[0, 0], point[0, 1])\n",
    "            print(idx,pos)\n",
    "            print(landmarks[idx][0,0], landmarks[idx][0,1])\n",
    "            # 利用cv2.circle给每个特征点画一个圈，共68个\n",
    "            cv2.circle(img, pos, 2, color=(255, 255, 255))\n",
    "            # 利用cv2.putText输出1-68\n",
    "            font = cv2.FONT_HERSHEY_SIMPLEX\n",
    "            cv2.putText(img, str(idx+1), pos, font, 0.2, (0,0,0), 1,cv2.LINE_AA)  "
   ]
  },
  {
   "cell_type": "code",
   "execution_count": 26,
   "id": "4a9048aa-01f6-4d12-8ee5-6152d5cb4375",
   "metadata": {},
   "outputs": [],
   "source": [
    "def painting_sunglasses(img,detector,predictor):   \n",
    "    #给人脸带上墨镜\n",
    "    rects = detector(img_gray, 0)  \n",
    "    for i in range(len(rects)):\n",
    "        landmarks = np.matrix([[p.x, p.y] for p in predictor(img,rects[i]).parts()])\n",
    "        right_eye_x=0\n",
    "        right_eye_y=0\n",
    "        left_eye_x=0\n",
    "        left_eye_y=0\n",
    "        for i in range(36,42):#右眼范围\n",
    "            #将坐标相加\n",
    "            right_eye_x+=landmarks[i][0,0]\n",
    "            right_eye_y+=landmarks[i][0,1]\n",
    "        #取眼睛的中点坐标\n",
    "        pos_right=(int(right_eye_x/6),int(right_eye_y/6))\n",
    "       \"\"\"\n",
    "       利用circle函数画圆\n",
    "       函数原型      \n",
    "       cv2.circle(img, center, radius, color[, thickness[, lineType[, shift]]])\n",
    "       img：输入的图片data\n",
    "       center：圆心位置\n",
    "       radius：圆的半径\n",
    "       color：圆的颜色\n",
    "       thickness：圆形轮廓的粗细（如果为正）。负厚度表示要绘制实心圆。\n",
    "       lineType： 圆边界的类型。\n",
    "       shift：中心坐标和半径值中的小数位数。\n",
    "       \"\"\"\n",
    "        cv2.circle(img=img, center=pos_right, radius=30, color=(0,0,0),thickness=-1)\n",
    "        for i in range(42,48):#左眼范围\n",
    "           #将坐标相加\n",
    "            left_eye_x+=landmarks[i][0,0]\n",
    "            left_eye_y+=landmarks[i][0,1]\n",
    "        #取眼睛的中点坐标\n",
    "        pos_left=(int(left_eye_x/6),int(left_eye_y/6))\n",
    "        cv2.circle(img=img, center=pos_left, radius=30, color=(0,0,0),thickness=-1)\n"
   ]
  },
  {
   "cell_type": "code",
   "execution_count": 27,
   "id": "39aadf26-ea3e-4413-98ed-9c3f9dbfc66f",
   "metadata": {},
   "outputs": [],
   "source": [
    "camera = cv2.VideoCapture(0)\n",
    "ok=True\n",
    "# 打开摄像头 参数为输入流，可以为摄像头或视频文件\n",
    "\n",
    "while ok:\n",
    "    ok,img = camera.read()\n",
    "     # 转换成灰度图像\n",
    "    img_gray = cv2.cvtColor(img,cv2.COLOR_BGR2GRAY)\n",
    "    #display_feature_point(img,detector,predictor)\n",
    "    painting_sunglasses(img,detector,predictor)#调用画墨镜函数\n",
    "    cv2.imshow('video', img)\n",
    "    k = cv2.waitKey(1)\n",
    "    if k == 27:    # press 'ESC' to quit\n",
    "        break\n",
    "camera.release()\n",
    "cv2.destroyAllWindows()"
   ]
  },
  {
   "cell_type": "code",
   "execution_count": null,
   "id": "acb2b2ea-4282-4bff-940e-0bf982f18f21",
   "metadata": {},
   "outputs": [],
   "source": []
  }
 ],
 "metadata": {
  "kernelspec": {
   "display_name": "Python 3",
   "language": "python",
   "name": "python3"
  },
  "language_info": {
   "codemirror_mode": {
    "name": "ipython",
    "version": 3
   },
   "file_extension": ".py",
   "mimetype": "text/x-python",
   "name": "python",
   "nbconvert_exporter": "python",
   "pygments_lexer": "ipython3",
   "version": "3.8.8"
  }
 },
 "nbformat": 4,
 "nbformat_minor": 5
}
